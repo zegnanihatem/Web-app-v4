{
 "cells": [
  {
   "cell_type": "code",
   "execution_count": 2,
   "metadata": {},
   "outputs": [],
   "source": [
    "\n",
    "import pandas as pd"
   ]
  },
  {
   "cell_type": "code",
   "execution_count": 3,
   "metadata": {},
   "outputs": [],
   "source": [
    "DB_path= \"Data/Excels/Database.xlsx\"\n",
    "def load_DB(DB_path):\n",
    "    Sheets= pd.read_excel(DB_path, sheet_name=[\"FMSI\", \"Kits\", \"Shim_crossing\", \"Kit_crossing\", \"SHIMS\"])\n",
    "    FMSI= Sheets['FMSI']\n",
    "    SHIMS= Sheets['SHIMS']\n",
    "    Kits= Sheets['Kits']\n",
    "    Shim_crossing= Sheets['Shim_crossing']\n",
    "    Kit_crossing= Sheets['Kit_crossing']\n",
    "\n",
    "    FMSI= FMSI.astype(str)\n",
    "    Shim_crossing= Shim_crossing.astype(str)\n",
    "\n",
    "    Flat_SHIMS= FMSI.merge(Shim_crossing, on= 'FMSI').merge(SHIMS, on= 'SHIM PN')\n",
    "    Flat_kits= FMSI.merge(Kit_crossing, on= 'FMSI').merge(Kits, on= 'KIT PN')\n",
    "    return Flat_SHIMS, Flat_kits, FMSI, SHIMS, Kits, Shim_crossing, Kit_crossing"
   ]
  },
  {
   "cell_type": "code",
   "execution_count": 4,
   "metadata": {},
   "outputs": [],
   "source": [
    "Flat_SHIMS, Flat_kits, FMSI, SHIMS, Kits, Shim_crossing, Kit_crossing= load_DB(DB_path)"
   ]
  },
  {
   "cell_type": "code",
   "execution_count": 5,
   "metadata": {},
   "outputs": [],
   "source": [
    "Kit_crossing= Kit_crossing[['FMSI', 'KIT PN']]\n",
    "Kit_crossing.sort_values(by='KIT PN', inplace=True)\n"
   ]
  },
  {
   "cell_type": "code",
   "execution_count": 6,
   "metadata": {},
   "outputs": [],
   "source": [
    "result= Kit_crossing.groupby('KIT PN')['FMSI'].apply(lambda x: ' '.join(x)).reset_index()"
   ]
  },
  {
   "cell_type": "code",
   "execution_count": 7,
   "metadata": {},
   "outputs": [],
   "source": [
    "result.to_excel(\"Line_crossing_kits.xlsx\")"
   ]
  },
  {
   "cell_type": "code",
   "execution_count": 8,
   "metadata": {},
   "outputs": [
    {
     "data": {
      "text/html": [
       "<div>\n",
       "<style scoped>\n",
       "    .dataframe tbody tr th:only-of-type {\n",
       "        vertical-align: middle;\n",
       "    }\n",
       "\n",
       "    .dataframe tbody tr th {\n",
       "        vertical-align: top;\n",
       "    }\n",
       "\n",
       "    .dataframe thead th {\n",
       "        text-align: right;\n",
       "    }\n",
       "</style>\n",
       "<table border=\"1\" class=\"dataframe\">\n",
       "  <thead>\n",
       "    <tr style=\"text-align: right;\">\n",
       "      <th></th>\n",
       "      <th>KIT PN</th>\n",
       "      <th>FMSI</th>\n",
       "    </tr>\n",
       "  </thead>\n",
       "  <tbody>\n",
       "    <tr>\n",
       "      <th>0</th>\n",
       "      <td>XLD1001</td>\n",
       "      <td>D1743</td>\n",
       "    </tr>\n",
       "    <tr>\n",
       "      <th>1</th>\n",
       "      <td>XLD1002</td>\n",
       "      <td>D2097</td>\n",
       "    </tr>\n",
       "    <tr>\n",
       "      <th>2</th>\n",
       "      <td>XLD1003</td>\n",
       "      <td>D1166</td>\n",
       "    </tr>\n",
       "    <tr>\n",
       "      <th>3</th>\n",
       "      <td>XLD1004</td>\n",
       "      <td>D2076 D2176</td>\n",
       "    </tr>\n",
       "    <tr>\n",
       "      <th>4</th>\n",
       "      <td>XLD1006</td>\n",
       "      <td>D0959 D1608</td>\n",
       "    </tr>\n",
       "    <tr>\n",
       "      <th>...</th>\n",
       "      <td>...</td>\n",
       "      <td>...</td>\n",
       "    </tr>\n",
       "    <tr>\n",
       "      <th>1771</th>\n",
       "      <td>XLD8451</td>\n",
       "      <td>D0645 D0684 D0696 D0228 D0720 D0391 D0565 D042...</td>\n",
       "    </tr>\n",
       "    <tr>\n",
       "      <th>1772</th>\n",
       "      <td>XLD8452</td>\n",
       "      <td>D0145</td>\n",
       "    </tr>\n",
       "    <tr>\n",
       "      <th>1773</th>\n",
       "      <td>XLD8453</td>\n",
       "      <td>D0045</td>\n",
       "    </tr>\n",
       "    <tr>\n",
       "      <th>1774</th>\n",
       "      <td>XLD8454</td>\n",
       "      <td>D0450</td>\n",
       "    </tr>\n",
       "    <tr>\n",
       "      <th>1775</th>\n",
       "      <td>XLD8455</td>\n",
       "      <td>D1426</td>\n",
       "    </tr>\n",
       "  </tbody>\n",
       "</table>\n",
       "<p>1776 rows × 2 columns</p>\n",
       "</div>"
      ],
      "text/plain": [
       "       KIT PN                                               FMSI\n",
       "0     XLD1001                                              D1743\n",
       "1     XLD1002                                              D2097\n",
       "2     XLD1003                                              D1166\n",
       "3     XLD1004                                        D2076 D2176\n",
       "4     XLD1006                                        D0959 D1608\n",
       "...       ...                                                ...\n",
       "1771  XLD8451  D0645 D0684 D0696 D0228 D0720 D0391 D0565 D042...\n",
       "1772  XLD8452                                              D0145\n",
       "1773  XLD8453                                              D0045\n",
       "1774  XLD8454                                              D0450\n",
       "1775  XLD8455                                              D1426\n",
       "\n",
       "[1776 rows x 2 columns]"
      ]
     },
     "execution_count": 8,
     "metadata": {},
     "output_type": "execute_result"
    }
   ],
   "source": [
    "result"
   ]
  },
  {
   "cell_type": "code",
   "execution_count": null,
   "metadata": {},
   "outputs": [],
   "source": []
  }
 ],
 "metadata": {
  "kernelspec": {
   "display_name": "Python 3",
   "language": "python",
   "name": "python3"
  },
  "language_info": {
   "codemirror_mode": {
    "name": "ipython",
    "version": 3
   },
   "file_extension": ".py",
   "mimetype": "text/x-python",
   "name": "python",
   "nbconvert_exporter": "python",
   "pygments_lexer": "ipython3",
   "version": "3.8.12"
  },
  "orig_nbformat": 4
 },
 "nbformat": 4,
 "nbformat_minor": 2
}
